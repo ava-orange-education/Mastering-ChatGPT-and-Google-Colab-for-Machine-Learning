{
  "nbformat": 4,
  "nbformat_minor": 0,
  "metadata": {
    "colab": {
      "provenance": []
    },
    "kernelspec": {
      "name": "python3",
      "display_name": "Python 3"
    },
    "language_info": {
      "name": "python"
    }
  },
  "cells": [
    {
      "cell_type": "code",
      "execution_count": 1,
      "metadata": {
        "colab": {
          "base_uri": "https://localhost:8080/"
        },
        "id": "vg1727Se8pwo",
        "outputId": "60e272f2-933d-4dae-e8c8-e5d7d2a2850a"
      },
      "outputs": [
        {
          "output_type": "stream",
          "name": "stdout",
          "text": [
            "Missing data counts:\n",
            "age               0\n",
            "workclass         0\n",
            "final-weight      0\n",
            "education         0\n",
            "education-num     0\n",
            "marital-status    0\n",
            "occupation        0\n",
            "relationship      0\n",
            "race              0\n",
            "sex               0\n",
            "capital-gain      0\n",
            "capital-loos      0\n",
            "hour-per-week     0\n",
            "native-country    0\n",
            "income            0\n",
            "dtype: int64\n"
          ]
        }
      ],
      "source": [
        "import pandas as pd\n",
        "\n",
        "# Load the dataset\n",
        "df = pd.read_csv(\"Census.csv\")\n",
        "\n",
        "# Check for missing data\n",
        "missing_data = df.isnull().sum()\n",
        "\n",
        "# Print the missing data count for each column\n",
        "print(\"Missing data counts:\")\n",
        "print(missing_data)\n"
      ]
    },
    {
      "cell_type": "code",
      "source": [
        "# List of categorical columns\n",
        "categorical_columns = df.select_dtypes(include=['object']).columns\n",
        "\n",
        "# Check for \"?\" in categorical columns\n",
        "question_mark_present = df[categorical_columns].apply(lambda x: x.str.contains('\\?')).any()\n",
        "\n",
        "# Print columns with \"?\" present\n",
        "print(\"Columns with '?' present:\")\n",
        "print(question_mark_present[question_mark_present].index.tolist())\n"
      ],
      "metadata": {
        "colab": {
          "base_uri": "https://localhost:8080/"
        },
        "id": "McMjqKK99Z7o",
        "outputId": "4755482b-ed40-43d1-bbd6-a705767aa894"
      },
      "execution_count": 2,
      "outputs": [
        {
          "output_type": "stream",
          "name": "stdout",
          "text": [
            "Columns with '?' present:\n",
            "['workclass', 'occupation', 'native-country']\n"
          ]
        }
      ]
    },
    {
      "cell_type": "code",
      "source": [
        "# List of categorical columns\n",
        "categorical_columns = df.select_dtypes(include=['object']).columns\n",
        "\n",
        "# Check for \"?\" in categorical columns and count occurrences\n",
        "question_mark_count = df[categorical_columns].apply(lambda x: x.str.contains('\\?')).sum()\n",
        "\n",
        "# Print columns with \"?\" present and their corresponding counts\n",
        "print(\"Columns with '?' present and their counts:\")\n",
        "for column, count in question_mark_count.items():\n",
        "    if count > 0:\n",
        "        print(f\"{column}: {count}\")\n"
      ],
      "metadata": {
        "colab": {
          "base_uri": "https://localhost:8080/"
        },
        "id": "DTdNortFFE1D",
        "outputId": "e9320814-7f69-4b99-986f-c112dc9cc214"
      },
      "execution_count": 3,
      "outputs": [
        {
          "output_type": "stream",
          "name": "stdout",
          "text": [
            "Columns with '?' present and their counts:\n",
            "workclass: 1836\n",
            "occupation: 1843\n",
            "native-country: 583\n"
          ]
        }
      ]
    },
    {
      "cell_type": "code",
      "source": [
        "# List of categorical columns\n",
        "categorical_columns = df.select_dtypes(include=['object']).columns\n",
        "\n",
        "# Replace \"?\" with NaN in categorical columns\n",
        "df[categorical_columns] = df[categorical_columns].replace('?', pd.NA)\n",
        "\n",
        "# Count null values in categorical columns\n",
        "null_count = df[categorical_columns].isnull().sum()\n",
        "\n",
        "# Print the count of null values\n",
        "print(\"Count of null values in categorical columns:\")\n",
        "print(null_count)\n"
      ],
      "metadata": {
        "colab": {
          "base_uri": "https://localhost:8080/"
        },
        "id": "hV4o5Sa5M2jI",
        "outputId": "2b79374e-5eb6-4089-aff1-44888e7204e1"
      },
      "execution_count": 4,
      "outputs": [
        {
          "output_type": "stream",
          "name": "stdout",
          "text": [
            "Count of null values in categorical columns:\n",
            "workclass         0\n",
            "education         0\n",
            "marital-status    0\n",
            "occupation        0\n",
            "relationship      0\n",
            "race              0\n",
            "sex               0\n",
            "native-country    0\n",
            "income            0\n",
            "dtype: int64\n"
          ]
        }
      ]
    },
    {
      "cell_type": "code",
      "source": [
        "# List of categorical columns\n",
        "categorical_columns = df.select_dtypes(include=['object']).columns\n",
        "\n",
        "# Replace \"?\" with NaN in categorical columns\n",
        "df[categorical_columns] = df[categorical_columns].replace(' ?', pd.NA)\n",
        "\n",
        "# Count null values in categorical columns\n",
        "null_count = df[categorical_columns].isnull().sum()\n",
        "\n",
        "# Print the count of null values\n",
        "print(\"Count of null values in categorical columns:\")\n",
        "print(null_count)"
      ],
      "metadata": {
        "colab": {
          "base_uri": "https://localhost:8080/"
        },
        "id": "ffkh_QtCOJxJ",
        "outputId": "f60eada9-3c97-429f-916a-94b6e94d31cb"
      },
      "execution_count": 5,
      "outputs": [
        {
          "output_type": "stream",
          "name": "stdout",
          "text": [
            "Count of null values in categorical columns:\n",
            "workclass         1836\n",
            "education            0\n",
            "marital-status       0\n",
            "occupation        1843\n",
            "relationship         0\n",
            "race                 0\n",
            "sex                  0\n",
            "native-country     583\n",
            "income               0\n",
            "dtype: int64\n"
          ]
        }
      ]
    },
    {
      "cell_type": "code",
      "source": [
        "# Identify columns with missing data\n",
        "missing_columns = df.columns[df.isnull().any()]\n",
        "\n",
        "# Get the data types of columns with missing data\n",
        "missing_column_types = df[missing_columns].dtypes\n",
        "\n",
        "# Print the types of columns with missing data\n",
        "print(\"Types of columns with missing data:\")\n",
        "print(missing_column_types)\n"
      ],
      "metadata": {
        "colab": {
          "base_uri": "https://localhost:8080/"
        },
        "id": "cI5eJBe1P-Z7",
        "outputId": "41ad9527-b47c-4f30-8cf5-71dfab70f67f"
      },
      "execution_count": 6,
      "outputs": [
        {
          "output_type": "stream",
          "name": "stdout",
          "text": [
            "Types of columns with missing data:\n",
            "workclass         object\n",
            "occupation        object\n",
            "native-country    object\n",
            "dtype: object\n"
          ]
        }
      ]
    },
    {
      "cell_type": "code",
      "source": [
        "# Identify categorical columns with missing data\n",
        "categorical_columns_with_missing = df.select_dtypes(include=['object']).columns[df.select_dtypes(include=['object']).isnull().any()]\n",
        "\n",
        "# Dictionary to store the count of replacements per column\n",
        "replacement_counts = {}\n",
        "\n",
        "# Replace missing categorical values with mode and count replacements\n",
        "for column in categorical_columns_with_missing:\n",
        "    mode_value = df[column].mode()[0]  # Calculate mode\n",
        "    replacement_count = df[column].isnull().sum()  # Count missing values before replacement\n",
        "    replaced_value = mode_value\n",
        "    df[column].fillna(mode_value, inplace=True)  # Replace missing values with mode\n",
        "    replacement_counts[column] = replacement_count  # Store the count of replacements\n",
        "    print(f\"Column: {column}, Mode value to be replaced: {replaced_value}\")\n",
        "\n",
        "# Print the number of replacements per column\n",
        "print(\"\\nNumber of replacements per column:\")\n",
        "for column, count in replacement_counts.items():\n",
        "    print(f\"{column}: {count}\")\n",
        "\n",
        "# Verify the changes\n",
        "print(\"\\nDataset after mode imputation:\")\n",
        "print(df.head())\n"
      ],
      "metadata": {
        "colab": {
          "base_uri": "https://localhost:8080/"
        },
        "id": "eLoHjAjhXxvM",
        "outputId": "1b0981a5-d348-4fe8-9f4c-24b5011b20ca"
      },
      "execution_count": 7,
      "outputs": [
        {
          "output_type": "stream",
          "name": "stdout",
          "text": [
            "Column: workclass, Mode value to be replaced:  Private\n",
            "Column: occupation, Mode value to be replaced:  Prof-specialty\n",
            "Column: native-country, Mode value to be replaced:  United-States\n",
            "\n",
            "Number of replacements per column:\n",
            "workclass: 1836\n",
            "occupation: 1843\n",
            "native-country: 583\n",
            "\n",
            "Dataset after mode imputation:\n",
            "   age          workclass  final-weight   education  education-num  \\\n",
            "0   39          State-gov         77516   Bachelors             13   \n",
            "1   50   Self-emp-not-inc         83311   Bachelors             13   \n",
            "2   38            Private        215646     HS-grad              9   \n",
            "3   53            Private        234721        11th              7   \n",
            "4   28            Private        338409   Bachelors             13   \n",
            "\n",
            "        marital-status          occupation    relationship    race      sex  \\\n",
            "0        Never-married        Adm-clerical   Not-in-family   White     Male   \n",
            "1   Married-civ-spouse     Exec-managerial         Husband   White     Male   \n",
            "2             Divorced   Handlers-cleaners   Not-in-family   White     Male   \n",
            "3   Married-civ-spouse   Handlers-cleaners         Husband   Black     Male   \n",
            "4   Married-civ-spouse      Prof-specialty            Wife   Black   Female   \n",
            "\n",
            "   capital-gain  capital-loos  hour-per-week  native-country  income  \n",
            "0          2174             0             40   United-States   <=50K  \n",
            "1             0             0             13   United-States   <=50K  \n",
            "2             0             0             40   United-States   <=50K  \n",
            "3             0             0             40   United-States   <=50K  \n",
            "4             0             0             40            Cuba   <=50K  \n"
          ]
        }
      ]
    },
    {
      "cell_type": "code",
      "source": [
        "# Define a function to detect outliers using the IQR method\n",
        "def detect_outliers_iqr(column):\n",
        "    Q1 = column.quantile(0.25)\n",
        "    Q3 = column.quantile(0.75)\n",
        "    IQR = Q3 - Q1\n",
        "    lower_bound = Q1 - 1.5 * IQR\n",
        "    upper_bound = Q3 + 1.5 * IQR\n",
        "    outliers = (column < lower_bound) | (column > upper_bound)\n",
        "    return outliers\n",
        "\n",
        "# Iterate over each column in the DataFrame\n",
        "for column in df.columns:\n",
        "    if df[column].dtype != 'object':  # Exclude non-numeric columns\n",
        "        outliers = detect_outliers_iqr(df[column])\n",
        "        if outliers.any():  # Check if there are any outliers in the column\n",
        "            print(f\"Column '{column}' has outliers:\")\n",
        "            print(df[outliers][column])\n",
        "            print()\n",
        "        else:\n",
        "            print(f\"No outliers found in column '{column}'.\\n\")\n",
        "    else:\n",
        "        print(f\"Skipping column '{column}' as it is non-numeric.\\n\")\n"
      ],
      "metadata": {
        "colab": {
          "base_uri": "https://localhost:8080/"
        },
        "id": "MoR1owjZd76b",
        "outputId": "da061a21-65e1-47dd-89e6-ca6151233e2d"
      },
      "execution_count": 8,
      "outputs": [
        {
          "output_type": "stream",
          "name": "stdout",
          "text": [
            "Column 'age' has outliers:\n",
            "74       79\n",
            "222      90\n",
            "430      80\n",
            "918      81\n",
            "1040     90\n",
            "         ..\n",
            "32277    90\n",
            "32367    90\n",
            "32459    85\n",
            "32494    82\n",
            "32525    81\n",
            "Name: age, Length: 143, dtype: int64\n",
            "\n",
            "Skipping column 'workclass' as it is non-numeric.\n",
            "\n",
            "Column 'final-weight' has outliers:\n",
            "37       544091\n",
            "40       507875\n",
            "80       446839\n",
            "110      432376\n",
            "157      494223\n",
            "          ...  \n",
            "32306    427686\n",
            "32329    435842\n",
            "32470    485710\n",
            "32496    436163\n",
            "32511    514716\n",
            "Name: final-weight, Length: 992, dtype: int64\n",
            "\n",
            "Skipping column 'education' as it is non-numeric.\n",
            "\n",
            "Column 'education-num' has outliers:\n",
            "15       4\n",
            "56       3\n",
            "61       4\n",
            "79       4\n",
            "160      2\n",
            "        ..\n",
            "32431    4\n",
            "32432    1\n",
            "32448    4\n",
            "32479    4\n",
            "32517    4\n",
            "Name: education-num, Length: 1198, dtype: int64\n",
            "\n",
            "Skipping column 'marital-status' as it is non-numeric.\n",
            "\n",
            "Skipping column 'occupation' as it is non-numeric.\n",
            "\n",
            "Skipping column 'relationship' as it is non-numeric.\n",
            "\n",
            "Skipping column 'race' as it is non-numeric.\n",
            "\n",
            "Skipping column 'sex' as it is non-numeric.\n",
            "\n",
            "Column 'capital-gain' has outliers:\n",
            "0         2174\n",
            "8        14084\n",
            "9         5178\n",
            "59        5013\n",
            "60        2407\n",
            "         ...  \n",
            "32515     3471\n",
            "32518    99999\n",
            "32538    15020\n",
            "32548     1086\n",
            "32560    15024\n",
            "Name: capital-gain, Length: 2712, dtype: int64\n",
            "\n",
            "Column 'capital-loos' has outliers:\n",
            "23       2042\n",
            "32       1408\n",
            "52       1902\n",
            "93       1573\n",
            "96       1902\n",
            "         ... \n",
            "32441    1887\n",
            "32443    1602\n",
            "32445    1669\n",
            "32458    1977\n",
            "32500     880\n",
            "Name: capital-loos, Length: 1519, dtype: int64\n",
            "\n",
            "Column 'hour-per-week' has outliers:\n",
            "1        13\n",
            "6        16\n",
            "10       80\n",
            "12       30\n",
            "20       60\n",
            "         ..\n",
            "32544    30\n",
            "32545    20\n",
            "32548    60\n",
            "32553    11\n",
            "32559    20\n",
            "Name: hour-per-week, Length: 9008, dtype: int64\n",
            "\n",
            "Skipping column 'native-country' as it is non-numeric.\n",
            "\n",
            "Skipping column 'income' as it is non-numeric.\n",
            "\n"
          ]
        }
      ]
    },
    {
      "cell_type": "code",
      "source": [
        "# Define a function to detect outliers using the IQR method\n",
        "def detect_outliers_iqr(column):\n",
        "    Q1 = column.quantile(0.25)\n",
        "    Q3 = column.quantile(0.75)\n",
        "    IQR = Q3 - Q1\n",
        "    lower_bound = Q1 - 1.5 * IQR\n",
        "    upper_bound = Q3 + 1.5 * IQR\n",
        "    outliers = (column < lower_bound) | (column > upper_bound)\n",
        "    return outliers\n",
        "\n",
        "# Iterate over each column in the DataFrame\n",
        "for column in df.columns:\n",
        "    if df[column].dtype != 'object':  # Exclude non-numeric columns\n",
        "        outliers = detect_outliers_iqr(df[column])\n",
        "        num_outliers = outliers.sum()\n",
        "        if num_outliers > 0:  # Check if there are any outliers in the column\n",
        "            print(f\"Column '{column}' has {num_outliers} outliers:\")\n",
        "            print(df[outliers][column])\n",
        "            print()\n",
        "        else:\n",
        "            print(f\"No outliers found in column '{column}'.\\n\")\n",
        "    else:\n",
        "        print(f\"Skipping column '{column}' as it is non-numeric.\\n\")\n"
      ],
      "metadata": {
        "colab": {
          "base_uri": "https://localhost:8080/"
        },
        "id": "xwUcMKHNzegC",
        "outputId": "b39c208c-84f4-4595-941c-bd4ef3b38405"
      },
      "execution_count": 9,
      "outputs": [
        {
          "output_type": "stream",
          "name": "stdout",
          "text": [
            "Column 'age' has 143 outliers:\n",
            "74       79\n",
            "222      90\n",
            "430      80\n",
            "918      81\n",
            "1040     90\n",
            "         ..\n",
            "32277    90\n",
            "32367    90\n",
            "32459    85\n",
            "32494    82\n",
            "32525    81\n",
            "Name: age, Length: 143, dtype: int64\n",
            "\n",
            "Skipping column 'workclass' as it is non-numeric.\n",
            "\n",
            "Column 'final-weight' has 992 outliers:\n",
            "37       544091\n",
            "40       507875\n",
            "80       446839\n",
            "110      432376\n",
            "157      494223\n",
            "          ...  \n",
            "32306    427686\n",
            "32329    435842\n",
            "32470    485710\n",
            "32496    436163\n",
            "32511    514716\n",
            "Name: final-weight, Length: 992, dtype: int64\n",
            "\n",
            "Skipping column 'education' as it is non-numeric.\n",
            "\n",
            "Column 'education-num' has 1198 outliers:\n",
            "15       4\n",
            "56       3\n",
            "61       4\n",
            "79       4\n",
            "160      2\n",
            "        ..\n",
            "32431    4\n",
            "32432    1\n",
            "32448    4\n",
            "32479    4\n",
            "32517    4\n",
            "Name: education-num, Length: 1198, dtype: int64\n",
            "\n",
            "Skipping column 'marital-status' as it is non-numeric.\n",
            "\n",
            "Skipping column 'occupation' as it is non-numeric.\n",
            "\n",
            "Skipping column 'relationship' as it is non-numeric.\n",
            "\n",
            "Skipping column 'race' as it is non-numeric.\n",
            "\n",
            "Skipping column 'sex' as it is non-numeric.\n",
            "\n",
            "Column 'capital-gain' has 2712 outliers:\n",
            "0         2174\n",
            "8        14084\n",
            "9         5178\n",
            "59        5013\n",
            "60        2407\n",
            "         ...  \n",
            "32515     3471\n",
            "32518    99999\n",
            "32538    15020\n",
            "32548     1086\n",
            "32560    15024\n",
            "Name: capital-gain, Length: 2712, dtype: int64\n",
            "\n",
            "Column 'capital-loos' has 1519 outliers:\n",
            "23       2042\n",
            "32       1408\n",
            "52       1902\n",
            "93       1573\n",
            "96       1902\n",
            "         ... \n",
            "32441    1887\n",
            "32443    1602\n",
            "32445    1669\n",
            "32458    1977\n",
            "32500     880\n",
            "Name: capital-loos, Length: 1519, dtype: int64\n",
            "\n",
            "Column 'hour-per-week' has 9008 outliers:\n",
            "1        13\n",
            "6        16\n",
            "10       80\n",
            "12       30\n",
            "20       60\n",
            "         ..\n",
            "32544    30\n",
            "32545    20\n",
            "32548    60\n",
            "32553    11\n",
            "32559    20\n",
            "Name: hour-per-week, Length: 9008, dtype: int64\n",
            "\n",
            "Skipping column 'native-country' as it is non-numeric.\n",
            "\n",
            "Skipping column 'income' as it is non-numeric.\n",
            "\n"
          ]
        }
      ]
    },
    {
      "cell_type": "code",
      "source": [],
      "metadata": {
        "id": "A-0f-Nlv2p_Q"
      },
      "execution_count": 9,
      "outputs": []
    }
  ]
}